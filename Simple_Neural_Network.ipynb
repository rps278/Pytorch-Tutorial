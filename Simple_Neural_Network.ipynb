{
  "nbformat": 4,
  "nbformat_minor": 0,
  "metadata": {
    "colab": {
      "provenance": [],
      "authorship_tag": "ABX9TyP2kkVnWxBJ4ih0on0MnsAb",
      "include_colab_link": true
    },
    "kernelspec": {
      "name": "python3",
      "display_name": "Python 3"
    },
    "language_info": {
      "name": "python"
    }
  },
  "cells": [
    {
      "cell_type": "markdown",
      "metadata": {
        "id": "view-in-github",
        "colab_type": "text"
      },
      "source": [
        "<a href=\"https://colab.research.google.com/github/rps278/Pytorch-Tutorial/blob/main/Simple_Neural_Network.ipynb\" target=\"_parent\"><img src=\"https://colab.research.google.com/assets/colab-badge.svg\" alt=\"Open In Colab\"/></a>"
      ]
    },
    {
      "cell_type": "code",
      "execution_count": 6,
      "metadata": {
        "id": "zznpVMFY9nc3"
      },
      "outputs": [],
      "source": [
        "import torch\n",
        "import torch.nn as nn\n",
        "import torch.nn.functional as F"
      ]
    },
    {
      "cell_type": "markdown",
      "source": [
        "Going to create a neural network to classify the iris flowers.\n",
        "We will be using the Iris dataset.\n",
        "It has 4 features that we will use to classify the flowers into 1 of 3 classes"
      ],
      "metadata": {
        "id": "lUoNJ2XeGec4"
      }
    },
    {
      "cell_type": "code",
      "source": [
        "# Create a Model class inherited from nn.Module\n",
        "class Model (nn.Module):\n",
        "  # Input Layer (4 features of the flower) --->\n",
        "  #  Hidden Layer 1 (number of neurons) -->\n",
        "  #   H2 Layer (hidden layer 2 with neurons n) -->\n",
        "  #    Output Layer (3 classes of iris flowers)"
      ],
      "metadata": {
        "id": "SX4W31U5FA4C"
      },
      "execution_count": null,
      "outputs": []
    }
  ]
}