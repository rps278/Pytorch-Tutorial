{
  "nbformat": 4,
  "nbformat_minor": 0,
  "metadata": {
    "colab": {
      "provenance": [],
      "authorship_tag": "ABX9TyMuGZTIDpzTOc1shxpGYjmR",
      "include_colab_link": true
    },
    "kernelspec": {
      "name": "python3",
      "display_name": "Python 3"
    },
    "language_info": {
      "name": "python"
    }
  },
  "cells": [
    {
      "cell_type": "markdown",
      "metadata": {
        "id": "view-in-github",
        "colab_type": "text"
      },
      "source": [
        "<a href=\"https://colab.research.google.com/github/rps278/Pytorch-Tutorial/blob/main/Simple_Neural_Network.ipynb\" target=\"_parent\"><img src=\"https://colab.research.google.com/assets/colab-badge.svg\" alt=\"Open In Colab\"/></a>"
      ]
    },
    {
      "cell_type": "code",
      "execution_count": null,
      "metadata": {
        "id": "zznpVMFY9nc3"
      },
      "outputs": [],
      "source": [
        "import torch\n",
        "import torch.nn as nn\n",
        "import torch.nn.functional as F"
      ]
    },
    {
      "cell_type": "markdown",
      "source": [
        "Going to create a neural network to classify the iris flowers.\n",
        "We will be using the Iris dataset.\n",
        "It has 4 features that we will use to classify the flowers into 1 of 3 classes"
      ],
      "metadata": {
        "id": "lUoNJ2XeGec4"
      }
    },
    {
      "cell_type": "code",
      "source": [
        "# Create a Model class inherited from nn.Module\n",
        "class Model (nn.Module):\n",
        "  # Input Layer (4 features of the flower) --->\n",
        "  #  Hidden Layer 1 (number of neurons) -->\n",
        "  #   H2 Layer (hidden layer 2 with neurons n) -->\n",
        "  #    Output Layer (3 classes of iris flowers)\n",
        "  def __init__(self,in_features=4,h1=8,h2=9, out_features=3):\n",
        "    super().__init__() # instantiate our nn.Module\n",
        "    self.fc1 = nn.Linear(in_features,h1)\n",
        "    self.fc2 = nn.Linear(h1,h2)\n",
        "    self.out = nn.Linear(h2,out_features)\n",
        "\n",
        "  def forward(self,x):\n",
        "    x = F.relu(self.fc1(x))\n",
        "    x = F.relu(self.fc2(x))\n",
        "    x = self.out(x)\n",
        "    return x"
      ],
      "metadata": {
        "id": "SX4W31U5FA4C"
      },
      "execution_count": 10,
      "outputs": []
    },
    {
      "cell_type": "code",
      "source": [],
      "metadata": {
        "id": "B95heYAnJRTt"
      },
      "execution_count": null,
      "outputs": []
    }
  ]
}